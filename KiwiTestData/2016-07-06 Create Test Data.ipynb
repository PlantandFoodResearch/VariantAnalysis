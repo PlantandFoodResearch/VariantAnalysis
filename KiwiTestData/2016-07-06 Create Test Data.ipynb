{
 "cells": [
  {
   "cell_type": "markdown",
   "metadata": {},
   "source": [
    "# Create Test Data for Kiwifruit Genomics Workflows"
   ]
  },
  {
   "cell_type": "markdown",
   "metadata": {},
   "source": [
    "Make some kiwi test data. Use first 1 kb"
   ]
  },
  {
   "cell_type": "code",
   "execution_count": 1,
   "metadata": {
    "collapsed": false
   },
   "outputs": [
    {
     "name": "stdout",
     "output_type": "stream",
     "text": []
    }
   ],
   "source": [
    "module load samtools/1.3.1"
   ]
  },
  {
   "cell_type": "code",
   "execution_count": 2,
   "metadata": {
    "collapsed": false
   },
   "outputs": [
    {
     "name": "stdout",
     "output_type": "stream",
     "text": []
    }
   ],
   "source": [
    "module load bedtools/2.21.0"
   ]
  },
  {
   "cell_type": "code",
   "execution_count": 4,
   "metadata": {
    "collapsed": false
   },
   "outputs": [
    {
     "name": "stdout",
     "output_type": "stream",
     "text": [
      "CHR1\t19474402\t86\t19474402\t19474403\r\n",
      "CHR2\t15865742\t19474575\t15865742\t15865743\r\n",
      "CHR3\t23687156\t35340404\t23687156\t23687157\r\n",
      "CHR4\t12906829\t59027647\t12906829\t12906830\r\n",
      "CHR5\t18272032\t71934563\t18272032\t18272033\r\n",
      "CHR6\t17395956\t90206682\t17395956\t17395957\r\n",
      "CHR7\t20282415\t107602725\t20282415\t20282416\r\n",
      "CHR8\t25307543\t127885227\t25307543\t25307544\r\n",
      "CHR9\t16512530\t153192857\t16512530\t16512531\r\n",
      "CHR10\t19412578\t169705478\t19412578\t19412579\r\n"
     ]
    }
   ],
   "source": [
    "REFFILE=/powerplant/workspace/cfljam/HighHealth/PoolSeq/PS1_reference/PS1_1.68.5.fasta\n",
    "INDEXFILE=/powerplant/workspace/cfljam/HighHealth/PoolSeq/PS1_reference/PS1_1.68.5.fasta.fai\n",
    "head $INDEXFILE"
   ]
  },
  {
   "cell_type": "code",
   "execution_count": 5,
   "metadata": {
    "collapsed": false
   },
   "outputs": [
    {
     "name": "stdout",
     "output_type": "stream",
     "text": [
      "CHR1\t1\t1000\r\n",
      "CHR2\t1\t1000\r\n",
      "CHR3\t1\t1000\r\n",
      "CHR4\t1\t1000\r\n",
      "CHR5\t1\t1000\r\n",
      "CHR6\t1\t1000\r\n",
      "CHR7\t1\t1000\r\n",
      "CHR8\t1\t1000\r\n",
      "CHR9\t1\t1000\r\n",
      "CHR10\t1\t1000\r\n"
     ]
    }
   ],
   "source": [
    "awk -v OFS='\\t' '{print $1,1,1000}' $INDEXFILE | head"
   ]
  },
  {
   "cell_type": "code",
   "execution_count": 6,
   "metadata": {
    "collapsed": false
   },
   "outputs": [
    {
     "name": "stdout",
     "output_type": "stream",
     "text": []
    }
   ],
   "source": [
    "bedtools getfasta -fi ${REFFILE} -bed <(awk -v OFS='\\t' '{print $1,1,1000}' ${INDEXFILE}) -fo ./kiwitest.fasta"
   ]
  },
  {
   "cell_type": "code",
   "execution_count": 8,
   "metadata": {
    "collapsed": false
   },
   "outputs": [
    {
     "name": "stdout",
     "output_type": "stream",
     "text": [
      ">CHR1:1-1000\r\n",
      ">CHR2:1-1000\r\n",
      ">CHR3:1-1000\r\n",
      ">CHR4:1-1000\r\n",
      ">CHR5:1-1000\r\n",
      ">CHR6:1-1000\r\n",
      ">CHR7:1-1000\r\n",
      ">CHR8:1-1000\r\n",
      ">CHR9:1-1000\r\n",
      ">CHR10:1-1000\r\n"
     ]
    }
   ],
   "source": [
    "grep '>' kiwitest.fasta | head"
   ]
  },
  {
   "cell_type": "markdown",
   "metadata": {
    "collapsed": false
   },
   "source": [
    "### Simulate Reads with Wgsim for 2 Samples"
   ]
  },
  {
   "cell_type": "code",
   "execution_count": 9,
   "metadata": {
    "collapsed": false
   },
   "outputs": [
    {
     "name": "stdout",
     "output_type": "stream",
     "text": [
      "\r\n",
      "Program: wgsim (short read simulator)\r\n",
      "Version: 0.3.2\r\n",
      "Contact: Heng Li <lh3@sanger.ac.uk>\r\n",
      "\r\n",
      "Usage:   wgsim [options] <in.ref.fa> <out.read1.fq> <out.read2.fq>\r\n",
      "\r\n",
      "Options: -e FLOAT      base error rate [0.020]\r\n",
      "         -d INT        outer distance between the two ends [500]\r\n",
      "         -s INT        standard deviation [50]\r\n",
      "         -N INT        number of read pairs [1000000]\r\n",
      "         -1 INT        length of the first read [70]\r\n",
      "         -2 INT        length of the second read [70]\r\n",
      "         -r FLOAT      rate of mutations [0.0010]\r\n",
      "         -R FLOAT      fraction of indels [0.15]\r\n",
      "         -X FLOAT      probability an indel is extended [0.30]\r\n",
      "         -S INT        seed for random generator [0, use the current time]\r\n",
      "         -A FLOAT      discard if the fraction of ambiguous bases higher than FLOAT [0.05]\r\n",
      "         -h            haplotype mode\r\n",
      "\r\n"
     ]
    }
   ],
   "source": [
    "wgsim"
   ]
  },
  {
   "cell_type": "code",
   "execution_count": 14,
   "metadata": {
    "collapsed": false
   },
   "outputs": [
    {
     "name": "stdout",
     "output_type": "stream",
     "text": [
      "[wgsim] seed = 10\r\n",
      "[wgsim_core] calculating the total length of the reference sequence...\r\n",
      "[wgsim_core] 30 sequences, total length: 29970\r\n",
      "[wgsim] seed = 5\r\n",
      "[wgsim_core] calculating the total length of the reference sequence...\r\n",
      "[wgsim_core] 30 sequences, total length: 29970\r\n"
     ]
    }
   ],
   "source": [
    "wgsim -N 1000 -1 125 -2 125 -r 0.01 -S 10 ./kiwitest.fasta kiwitest.1.R1.fq kiwitest.1.R2.fq > kiwitest1.wgsim.out\n",
    "wgsim -N 1000 -1 125 -2 125 -r 0.01 -S 5 ./kiwitest.fasta kiwitest.2.R1.fq kiwitest.2.R2.fq > kiwitest2.wgsim.out"
   ]
  },
  {
   "cell_type": "markdown",
   "metadata": {},
   "source": [
    "wgsim emits the details of variants it created"
   ]
  },
  {
   "cell_type": "code",
   "execution_count": 15,
   "metadata": {
    "collapsed": false
   },
   "outputs": [
    {
     "name": "stdout",
     "output_type": "stream",
     "text": [
      "CHR1:1-1000\t245\tG\tT\t-\r\n",
      "CHR1:1-1000\t288\tT\tW\t+\r\n",
      "CHR1:1-1000\t394\tC\tM\t+\r\n",
      "CHR1:1-1000\t406\tG\t-\t-\r\n",
      "CHR1:1-1000\t500\tC\t-\t-\r\n",
      "CHR1:1-1000\t541\tC\tT\t-\r\n",
      "CHR1:1-1000\t617\tT\tG\t-\r\n",
      "CHR1:1-1000\t926\tG\tC\t-\r\n",
      "CHR1:1-1000\t929\tT\tG\t-\r\n",
      "CHR1:1-1000\t965\tT\t-\t-\r\n"
     ]
    }
   ],
   "source": [
    "head kiwitest1.wgsim.out"
   ]
  },
  {
   "cell_type": "code",
   "execution_count": 16,
   "metadata": {
    "collapsed": false
   },
   "outputs": [
    {
     "name": "stdout",
     "output_type": "stream",
     "text": []
    }
   ],
   "source": [
    "rm *.gz\n",
    "pigz kiwitest*.fq"
   ]
  },
  {
   "cell_type": "code",
   "execution_count": 17,
   "metadata": {
    "collapsed": false
   },
   "outputs": [
    {
     "name": "stdout",
     "output_type": "stream",
     "text": [
      "total 665K\r\n",
      "-rw-rw-r--. 1 cfphxd cfphxd 8.1K Aug 18 10:59 2016-07-06 Create Test Data.ipynb\r\n",
      "-rw-rw-r--. 1 cfphxd cfphxd  36K Aug 18 10:59 kiwitest.1.R1.fq.gz\r\n",
      "-rw-rw-r--. 1 cfphxd cfphxd  36K Aug 18 10:59 kiwitest.1.R2.fq.gz\r\n",
      "-rw-rw-r--. 1 cfphxd cfphxd 6.8K Aug 18 10:59 kiwitest1.wgsim.out\r\n",
      "-rw-rw-r--. 1 cfphxd cfphxd  36K Aug 18 10:59 kiwitest.2.R1.fq.gz\r\n",
      "-rw-rw-r--. 1 cfphxd cfphxd  36K Aug 18 10:59 kiwitest.2.R2.fq.gz\r\n",
      "-rw-rw-r--. 1 cfphxd cfphxd 7.1K Aug 18 10:59 kiwitest2.wgsim.out\r\n",
      "-rw-rw-r--. 1 cfphxd cfphxd  30K Aug 18 10:56 kiwitest.fasta\r\n",
      "-rw-rw-r--. 1 cfphxd cfphxd  939 Aug 16 15:00 kiwitest.fasta.fai\r\n",
      "-rw-rw-r--. 1 cfphxd cfphxd 6.3K Jul  7 09:40 kiwitest.wgsim.out\r\n",
      "-rw-rw-r--. 1 cfphxd cfphxd  146 Jul  7 09:40 Readme.md\r\n"
     ]
    }
   ],
   "source": [
    "ls -lh"
   ]
  },
  {
   "cell_type": "code",
   "execution_count": 1,
   "metadata": {
    "collapsed": false
   },
   "outputs": [
    {
     "name": "stdout",
     "output_type": "stream",
     "text": [
      "@CHR1:1-1000_471_914_3:1:1_6:0:0_0/1\r\n",
      "TCCAACTGGGCCGAGACTTGGGTGACCCGATGCTTTGTCCACATTATCCTCTGATGGATCGACATGCTTTGTCCGTGGTACAGTCTTACCATTGTCTGAACAAGACTCAATCTTCTCGTCGAAGA\r\n",
      "+\r\n",
      "22222222222222222222222222222222222222222222222222222222222222222222222222222222222222222222222222222222222222222222222222222\r\n",
      "@CHR1:1-1000_246_703_4:0:0_3:1:0_1/1\r\n",
      "TCCACTCTTCTTTAAATTGGTAATGGCATTAGTAGTTTTGTTTAAAGATGAATAAATAGATGAATCATATTTTCCTATGAACCGACCAGAGGTCGATACAAAGCAAGTCTACGAGGAGAAGATTG\r\n",
      "+\r\n",
      "22222222222222222222222222222222222222222222222222222222222222222222222222222222222222222222222222222222222222222222222222222\r\n",
      "@CHR1:1-1000_273_830_3:2:0_3:0:0_2/1\r\n",
      "CAAAAGTAGTCATGGTTGCAACTTGCAATGATATTATCTAAATGCTACTTTTCTTGAAATGTGGAATCTACCATATTGTCTAAGAATCATGGTCTGTACTTTTAGTAATTTAATATTTGAAGAAA\r\n",
      "\r\n",
      "gzip: stdout: Broken pipe\r\n"
     ]
    }
   ],
   "source": [
    "zcat kiwitest.1.R1.fq.gz | head"
   ]
  },
  {
   "cell_type": "code",
   "execution_count": 2,
   "metadata": {
    "collapsed": false
   },
   "outputs": [
    {
     "name": "stdout",
     "output_type": "stream",
     "text": [
      "@CHR1:1-1000_46_657_4:2:0_3:1:0_0/1\r\n",
      "AGCTGCACTCTACAGATGAGACCACATTGTTGAAAACTAAAGCGTCACAAGAAATTTCATATTACCACCAATAAAAATAAAAGTAAAAAAAGAACGAAAAAGATAGAACATATAACTTTCCCAAC\r\n",
      "+\r\n",
      "22222222222222222222222222222222222222222222222222222222222222222222222222222222222222222222222222222222222222222222222222222\r\n",
      "@CHR1:1-1000_43_610_4:2:0_2:2:0_1/1\r\n",
      "CGATACAAAGCAAGTCTTGGAGGAGAAGATTGAGACTTGTTCAGACAATGGTAATCCTGTACCACGGACGAAGCATGTCGATCCATCAGAGGATAATGTGGACAAAGCATGGGGGTCAGCCAAGT\r\n",
      "+\r\n",
      "22222222222222222222222222222222222222222222222222222222222222222222222222222222222222222222222222222222222222222222222222222\r\n",
      "@CHR1:1-1000_270_744_1:0:0_2:0:0_2/1\r\n",
      "GAATGCAATCCACTGTATTTCAATTGTAAACAGTCACAACATTATGGCGGATGGAAAGAGTTCACTTGTTGCTCATGGTGGCTGTTGACTGGTAAGGCTAACCACAGGTACATCCAAGCTTCTCC\r\n",
      "\r\n",
      "gzip: stdout: Broken pipe\r\n"
     ]
    }
   ],
   "source": [
    "zcat kiwitest.2.R1.fq.gz | head"
   ]
  },
  {
   "cell_type": "code",
   "execution_count": null,
   "metadata": {
    "collapsed": true
   },
   "outputs": [],
   "source": []
  }
 ],
 "metadata": {
  "kernelspec": {
   "display_name": "Bash",
   "language": "bash",
   "name": "bash"
  },
  "language_info": {
   "codemirror_mode": "shell",
   "file_extension": ".sh",
   "mimetype": "text/x-sh",
   "name": "bash"
  }
 },
 "nbformat": 4,
 "nbformat_minor": 0
}
